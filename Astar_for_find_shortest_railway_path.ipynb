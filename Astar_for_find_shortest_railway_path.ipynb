{
 "cells": [
  {
   "cell_type": "code",
   "execution_count": 1,
   "metadata": {},
   "outputs": [],
   "source": [
    "# This class represent a graph\n",
    "class Graph:\n",
    "    # Initialize the class\n",
    "    \n",
    "    def __init__(self, graph_dict=None, directed=True):\n",
    "        self.graph_dict = graph_dict or {}\n",
    "        self.directed = directed\n",
    "        if not directed:\n",
    "            self.make_undirected()\n",
    "    # Create an undirected graph by adding symmetric edges\n",
    "    def make_undirected(self):\n",
    "        for a in list(self.graph_dict.keys()):\n",
    "            for (b, dist) in self.graph_dict[a].items():\n",
    "                self.graph_dict.setdefault(b, {})[a] = dist\n",
    "        #print(self.graph_dict)\n",
    "    # Add a link from A and B of given distance, and also add the inverse link if the graph is undirected\n",
    "    def connect(self, A, B, distance=1):\n",
    "        self.graph_dict.setdefault(A, {})[B] = distance\n",
    "        if not self.directed:\n",
    "            self.graph_dict.setdefault(B, {})[A] = distance\n",
    "    # Get neighbors or a neighbor\n",
    "    def get(self, a, b=None):\n",
    "        links = self.graph_dict.setdefault(a, {})\n",
    "        if b is None:\n",
    "            return links\n",
    "        else:\n",
    "            return links.get(b)\n",
    "    # Return a list of nodes in the graph\n",
    "    def nodes(self):\n",
    "        s1 = set([k for k in self.graph_dict.keys()])\n",
    "        s2 = set([k2 for v in self.graph_dict.values() for k2, v2 in v.items()])\n",
    "        nodes = s1.union(s2)\n",
    "        return list(nodes)\n"
   ]
  },
  {
   "cell_type": "code",
   "execution_count": 2,
   "metadata": {},
   "outputs": [],
   "source": [
    "# This class represent a node\n",
    "class Node:\n",
    "    # Initialize the class\n",
    "    def __init__(self, name:str, parent:str):\n",
    "        self.name = name\n",
    "        self.parent = parent\n",
    "        self.g = 0 # Distance to start node\n",
    "        self.h = 0 # Distance to goal node\n",
    "        self.f = 0 # Total cost\n",
    "    # Compare nodes\n",
    "    def __eq__(self, other):\n",
    "        return self.name == other.name\n",
    "    # Sort nodes\n",
    "    def __lt__(self, other):\n",
    "         return self.f < other.f\n",
    "    # Print node\n",
    "    def __repr__(self):\n",
    "        return ('({0},{1})'.format(self.position, self.f))"
   ]
  },
  {
   "cell_type": "code",
   "execution_count": 13,
   "metadata": {},
   "outputs": [],
   "source": [
    "Signal_status = {\n",
    "    'Signal off' : 0,\n",
    "    'Signal on' : 1\n",
    "}\n",
    "\n",
    "Collision_status= {\n",
    "     'block' :0,\n",
    "     'no block':1\n",
    "    \n",
    "}\n",
    "\n",
    "train_status= {\n",
    "    'block':0,\n",
    "    'no block':1 \n",
    "}"
   ]
  },
  {
   "cell_type": "code",
   "execution_count": 123,
   "metadata": {},
   "outputs": [
    {
     "data": {
      "text/plain": [
       "3"
      ]
     },
     "execution_count": 123,
     "metadata": {},
     "output_type": "execute_result"
    }
   ],
   "source": [
    "import random\n",
    "random.randint(2,4)"
   ]
  },
  {
   "cell_type": "code",
   "execution_count": 148,
   "metadata": {},
   "outputs": [],
   "source": [
    "def getsignalstatus(name):\n",
    "    if name==\"a28\":\n",
    "        Signalstatus=0\n",
    "    else:\n",
    "        Signalstatus=1\n",
    "#     Signalstatus= random.choice(list(Signal_status.values())) \n",
    "    return Signalstatus"
   ]
  },
  {
   "cell_type": "code",
   "execution_count": 149,
   "metadata": {},
   "outputs": [],
   "source": [
    "def getcollisionstatus():\n",
    "    Collisionstatus=1\n",
    "#     Collisionstatus= random.choice(list(Collision_status.values()))  \n",
    "    return Collisionstatus"
   ]
  },
  {
   "cell_type": "code",
   "execution_count": 150,
   "metadata": {},
   "outputs": [],
   "source": [
    "def gettrainstatus():\n",
    "    trainStatus=1\n",
    "#     trainStatus= random.choice(list(train_status.values())) \n",
    "    return trainStatus"
   ]
  },
  {
   "cell_type": "code",
   "execution_count": 151,
   "metadata": {},
   "outputs": [],
   "source": [
    "def calculateCost(distance,speed):\n",
    "    time=distance/speed;\n",
    "    return time"
   ]
  },
  {
   "cell_type": "code",
   "execution_count": 156,
   "metadata": {},
   "outputs": [],
   "source": [
    "# A* search\n",
    "def astar_search(graph,start, end):\n",
    "    \n",
    "    # Create lists for open nodes and closed nodes\n",
    "    open = []\n",
    "    closed = []\n",
    "    # Create a start node and an goal node\n",
    "    start_node = Node(start, None)\n",
    "    goal_node = Node(end, None)\n",
    "    # Add the start node\n",
    "    open.append(start_node)\n",
    "    \n",
    "    # Loop until the open list is empty\n",
    "    while len(open) > 0:\n",
    "        # Sort the open list to get the node with the lowest cost first\n",
    "        open.sort()\n",
    "        # Get the node with the lowest cost\n",
    "        current_node = open.pop(0)\n",
    "#         print(current_node.name)\n",
    "        \n",
    "        Check_status1=getsignalstatus(current_node.name)\n",
    "        Check_status2=getcollisionstatus()\n",
    "        Check_status3=gettrainstatus()\n",
    "        \n",
    "        if(Check_status1==0 or Check_status2==0 or Check_status3==0):\n",
    "            continue\n",
    "            \n",
    "        \n",
    "#         Add the current node to the closed list\n",
    "        closed.append(current_node)\n",
    "        \n",
    "        # Check if we have reached the goal, return the path\n",
    "        if current_node == goal_node:\n",
    "            path = []\n",
    "            while current_node != start_node:\n",
    "                path.append(current_node.name + ': ' + str(current_node.g))\n",
    "                current_node = current_node.parent\n",
    "            path.append(start_node.name + ': ' + str(start_node.g))\n",
    "            # Return reversed path\n",
    "            return path[::-1]\n",
    "        # Get neighbours\n",
    "        neighbors = graph.get(current_node.name)\n",
    "        # Loop neighbors\n",
    "        for key, value in neighbors.items():\n",
    "            # Create a neighbor node\n",
    "            neighbor = Node(key, current_node)\n",
    "            # Check if the neighbor is in the closed list\n",
    "            if(neighbor in closed):\n",
    "                continue\n",
    "            # Calculate full path cost\n",
    "#             neighbor.g = current_node.g + graph.get(current_node.name, neighbor.name)\n",
    "#             neighbor.h = heuristics.get(neighbor.name)\n",
    "            \n",
    "            neighbor.g = current_node.g + calculateCost(graph.get(current_node.name, neighbor.name),random.randint(2,4))\n",
    "            neighbor.h = calculateCost(graph.get(current_node.name, neighbor.name),2)\n",
    "            neighbor.f = neighbor.g + neighbor.h\n",
    "            # Check if neighbor is in open list and if it has a lower f value\n",
    "            if(add_to_open(open, neighbor) == True):\n",
    "                # Everything is green, add neighbor to open list\n",
    "                open.append(neighbor)\n",
    "    # Return None, no path is found\n",
    "    return None"
   ]
  },
  {
   "cell_type": "code",
   "execution_count": 157,
   "metadata": {},
   "outputs": [],
   "source": [
    "# Check if a neighbor should be added to open list\n",
    "def add_to_open(open, neighbor):\n",
    "    for node in open:\n",
    "        if (neighbor == node and neighbor.f > node.f):\n",
    "            return False\n",
    "    return True"
   ]
  },
  {
   "cell_type": "code",
   "execution_count": 158,
   "metadata": {},
   "outputs": [],
   "source": [
    "# The main entry point for this module\n",
    "def main():\n",
    "    # Create a graph\n",
    "    graph = Graph()\n",
    "    # Create graph connections (equal distance)\n",
    "    graph.connect('a1', 'a2', 1)\n",
    "    graph.connect('a2', 'a3', 1)\n",
    "    graph.connect('a3', 'a4', 1)\n",
    "    graph.connect('a3', 'a24', 1)\n",
    "    graph.connect('a4', 'a5', 1)\n",
    "    graph.connect('a5', 'a6', 1)\n",
    "    graph.connect('a6', 'a7', 1)\n",
    "    graph.connect('a7', 'a8', 1)\n",
    "    graph.connect('a8', 'a9', 1)\n",
    "    graph.connect('a9', 'a10', 1)\n",
    "    graph.connect('a10', 'a11', 1)\n",
    "    graph.connect('a11', 'a12', 1)\n",
    "    graph.connect('a212', 'a211', 1)\n",
    "    graph.connect('a211', 'a210', 1)\n",
    "    graph.connect('a210', 'a29', 1)\n",
    "    graph.connect('a29', 'a28', 1)\n",
    "    graph.connect('a29', 'a32', 1)\n",
    "    graph.connect('a28', 'a27', 1)\n",
    "    graph.connect('a27', 'a26', 1)\n",
    "    graph.connect('a26', 'a25', 1)\n",
    "    graph.connect('a25', 'a24', 1)\n",
    "    graph.connect('a31', 'a25', 10)\n",
    "    graph.connect('a24', 'a23', 1)\n",
    "    graph.connect('a23', 'a22', 1)\n",
    "    graph.connect('a22', 'a21', 1)\n",
    "    graph.connect('a24', 'a25', 1)\n",
    "    graph.connect('a25', 'a26', 1)\n",
    "    graph.connect('a26', 'a27', 1)\n",
    "    graph.connect('a27', 'a28', 1)\n",
    "    graph.connect('a28', 'a9', 1)\n",
    "    graph.connect('a32', 'a31', 1)\n",
    "    # Make graph undirected, create symmetric connections\n",
    "    #graph.make_undirected()\n",
    "# Run the search algorithm\n",
    "    path = astar_search(graph,'a212', 'a21') \n",
    "    path2 = astar_search(graph,'a212', 'a24') \n",
    "    print(path)\n",
    "    print(path2)\n"
   ]
  },
  {
   "cell_type": "code",
   "execution_count": 159,
   "metadata": {},
   "outputs": [
    {
     "name": "stdout",
     "output_type": "stream",
     "text": [
      "['a212: 0', 'a211: 0.25', 'a210: 0.5', 'a29: 1.0', 'a28: 1.5', 'a27: 1.75', 'a26: 2.25', 'a25: 2.75', 'a24: 3.0', 'a23: 3.3333333333333335', 'a22: 3.5833333333333335', 'a21: 3.916666666666667']\n",
      "['a212: 0', 'a211: 0.25', 'a210: 0.75', 'a29: 1.0', 'a28: 1.25', 'a27: 1.5', 'a26: 2.0', 'a25: 2.25', 'a24: 2.75']\n"
     ]
    }
   ],
   "source": [
    "if __name__ == \"__main__\": main()"
   ]
  },
  {
   "cell_type": "code",
   "execution_count": null,
   "metadata": {},
   "outputs": [],
   "source": []
  },
  {
   "cell_type": "code",
   "execution_count": null,
   "metadata": {},
   "outputs": [],
   "source": []
  },
  {
   "cell_type": "code",
   "execution_count": null,
   "metadata": {},
   "outputs": [],
   "source": [
    "\n",
    "\n",
    "\n",
    "    "
   ]
  },
  {
   "cell_type": "code",
   "execution_count": null,
   "metadata": {},
   "outputs": [],
   "source": []
  },
  {
   "cell_type": "code",
   "execution_count": null,
   "metadata": {},
   "outputs": [],
   "source": []
  },
  {
   "cell_type": "code",
   "execution_count": null,
   "metadata": {},
   "outputs": [],
   "source": []
  }
 ],
 "metadata": {
  "kernelspec": {
   "display_name": "Python 3",
   "language": "python",
   "name": "python3"
  },
  "language_info": {
   "codemirror_mode": {
    "name": "ipython",
    "version": 3
   },
   "file_extension": ".py",
   "mimetype": "text/x-python",
   "name": "python",
   "nbconvert_exporter": "python",
   "pygments_lexer": "ipython3",
   "version": "3.7.6"
  }
 },
 "nbformat": 4,
 "nbformat_minor": 4
}
